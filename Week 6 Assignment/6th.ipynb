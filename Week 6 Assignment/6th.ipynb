{
 "cells": [
  {
   "cell_type": "code",
   "execution_count": null,
   "id": "33463b89-d9a6-4ac8-86ec-b13a64177621",
   "metadata": {},
   "outputs": [],
   "source": [
    "# Import core libraries\n",
    "import pandas as pd\n",
    "from sklearn.datasets import load_breast_cancer\n",
    "from sklearn.model_selection import train_test_split, GridSearchCV, RandomizedSearchCV\n",
    "from sklearn.metrics import accuracy_score, precision_score, recall_score, f1_score, classification_report, confusion_matrix, ConfusionMatrixDisplay\n",
    "\n",
    "# Import machine learning models\n",
    "from sklearn.linear_model import LogisticRegression\n",
    "from sklearn.ensemble import RandomForestClassifier\n",
    "from sklearn.svm import SVC\n",
    "from sklearn.tree import DecisionTreeClassifier\n",
    "from sklearn.neighbors import KNeighborsClassifier\n",
    "\n",
    "# Import distribution for randomized search\n",
    "from scipy.stats import randint"
   ]
  },
  {
   "cell_type": "code",
   "execution_count": 2,
   "id": "bd5918a8-69c2-48d1-bd9c-6ae692b55a45",
   "metadata": {},
   "outputs": [],
   "source": [
    "# Load the breast cancer dataset from sklearn\n",
    "data = load_breast_cancer()\n",
    "\n",
    "# Convert to pandas DataFrame for ease of use\n",
    "X = pd.DataFrame(data.data, columns=data.feature_names)\n",
    "y = pd.Series(data.target)\n"
   ]
  },
  {
   "cell_type": "code",
   "execution_count": 5,
   "id": "a2cf5d5a-463a-4a72-b6ce-e21d8ca5cc92",
   "metadata": {},
   "outputs": [],
   "source": [
    "# Split the data into training and testing sets (80% train, 20% test)\n",
    "X_train, X_test, y_train, y_test = train_test_split(X, y, test_size=0.2, random_state=42)\n"
   ]
  },
  {
   "cell_type": "code",
   "execution_count": 7,
   "id": "6fbe0a7f-f908-4d5a-8997-b58e8af3a733",
   "metadata": {},
   "outputs": [
    {
     "name": "stderr",
     "output_type": "stream",
     "text": [
      "C:\\Users\\ADMIN\\AppData\\Roaming\\Python\\Python312\\site-packages\\sklearn\\linear_model\\_logistic.py:465: ConvergenceWarning: lbfgs failed to converge (status=1):\n",
      "STOP: TOTAL NO. OF ITERATIONS REACHED LIMIT.\n",
      "\n",
      "Increase the number of iterations (max_iter) or scale the data as shown in:\n",
      "    https://scikit-learn.org/stable/modules/preprocessing.html\n",
      "Please also refer to the documentation for alternative solver options:\n",
      "    https://scikit-learn.org/stable/modules/linear_model.html#logistic-regression\n",
      "  n_iter_i = _check_optimize_result(\n"
     ]
    }
   ],
   "source": [
    "# Define a dictionary of models to evaluate\n",
    "models = {\n",
    "    \"Logistic Regression\": LogisticRegression(max_iter=1000),\n",
    "    \"Random Forest\": RandomForestClassifier(),\n",
    "    \"Support Vector Machine\": SVC(),\n",
    "    \"Decision Tree\": DecisionTreeClassifier(),\n",
    "    \"K-Nearest Neighbors\": KNeighborsClassifier()\n",
    "}\n",
    "\n",
    "# Create a list to store the evaluation results\n",
    "model_scores = []\n",
    "\n",
    "# Train and evaluate each model\n",
    "for name, model in models.items():\n",
    "    model.fit(X_train, y_train)\n",
    "    predictions = model.predict(X_test)\n",
    "\n",
    "    # Append performance metrics to the list\n",
    "    model_scores.append({\n",
    "        \"Model\": name,\n",
    "        \"Accuracy\": accuracy_score(y_test, predictions),\n",
    "        \"Precision\": precision_score(y_test, predictions),\n",
    "        \"Recall\": recall_score(y_test, predictions),\n",
    "        \"F1 Score\": f1_score(y_test, predictions)\n",
    "    })\n"
   ]
  },
  {
   "cell_type": "code",
   "execution_count": 9,
   "id": "66ff3092-9cec-4054-8109-5006c6588898",
   "metadata": {},
   "outputs": [
    {
     "name": "stdout",
     "output_type": "stream",
     "text": [
      "Initial Evaluation Results:\n",
      "                    Model  Accuracy  Precision    Recall  F1 Score\n",
      "1           Random Forest  0.964912   0.958904  0.985915  0.972222\n",
      "4     K-Nearest Neighbors  0.956140   0.934211  1.000000  0.965986\n",
      "0     Logistic Regression  0.956140   0.945946  0.985915  0.965517\n",
      "2  Support Vector Machine  0.947368   0.922078  1.000000  0.959459\n",
      "3           Decision Tree  0.947368   0.957746  0.957746  0.957746\n"
     ]
    }
   ],
   "source": [
    "# Convert results to DataFrame and sort by F1 Score\n",
    "results_df = pd.DataFrame(model_scores)\n",
    "print(\"Initial Evaluation Results:\")\n",
    "print(results_df.sort_values(by=\"F1 Score\", ascending=False))\n"
   ]
  },
  {
   "cell_type": "code",
   "execution_count": 11,
   "id": "237c14dc-3acb-4f8a-9544-f84ac5ad0ecc",
   "metadata": {},
   "outputs": [
    {
     "name": "stdout",
     "output_type": "stream",
     "text": [
      "Best parameters for SVM: {'C': 1, 'gamma': 'scale', 'kernel': 'linear'}\n",
      "Best F1 Score from GridSearchCV (SVM): 0.9654526438832324\n"
     ]
    }
   ],
   "source": [
    "# Define the parameter grid for SVM\n",
    "svm_params = {\n",
    "    'C': [0.1, 1, 10],\n",
    "    'kernel': ['linear', 'rbf'],\n",
    "    'gamma': ['scale', 'auto']\n",
    "}\n",
    "\n",
    "# Initialize GridSearchCV for SVM\n",
    "grid_search_svm = GridSearchCV(SVC(), svm_params, cv=5, scoring='f1', n_jobs=-1)\n",
    "grid_search_svm.fit(X_train, y_train)\n",
    "\n",
    "# Print best parameters and score\n",
    "print(\"Best parameters for SVM:\", grid_search_svm.best_params_)\n",
    "print(\"Best F1 Score from GridSearchCV (SVM):\", grid_search_svm.best_score_)\n"
   ]
  },
  {
   "cell_type": "code",
   "execution_count": 13,
   "id": "883e4afb-1b7f-4b10-bc22-e1c3182d944e",
   "metadata": {},
   "outputs": [
    {
     "name": "stdout",
     "output_type": "stream",
     "text": [
      "Best parameters for Random Forest: {'max_depth': None, 'min_samples_leaf': 2, 'min_samples_split': 9, 'n_estimators': 87}\n",
      "Best F1 Score from RandomizedSearchCV (RF): 0.9670401617197955\n"
     ]
    }
   ],
   "source": [
    "# Define parameter distribution for Random Forest\n",
    "rf_params = {\n",
    "    'n_estimators': randint(50, 200),\n",
    "    'max_depth': [None, 10, 20, 30],\n",
    "    'min_samples_split': randint(2, 10),\n",
    "    'min_samples_leaf': randint(1, 10)\n",
    "}\n",
    "\n",
    "# Initialize RandomizedSearchCV for Random Forest\n",
    "random_search_rf = RandomizedSearchCV(RandomForestClassifier(), rf_params, n_iter=10, cv=5, scoring='f1', random_state=42, n_jobs=-1)\n",
    "random_search_rf.fit(X_train, y_train)\n",
    "\n",
    "# Print best parameters and score\n",
    "print(\"Best parameters for Random Forest:\", random_search_rf.best_params_)\n",
    "print(\"Best F1 Score from RandomizedSearchCV (RF):\", random_search_rf.best_score_)\n"
   ]
  },
  {
   "cell_type": "code",
   "execution_count": 15,
   "id": "fa3874dd-d88f-4058-832c-4aca528f97c6",
   "metadata": {},
   "outputs": [
    {
     "name": "stdout",
     "output_type": "stream",
     "text": [
      "Final Evaluation Results (including tuned models):\n",
      "                    Model  Accuracy  Precision    Recall  F1 Score\n",
      "1           Random Forest  0.964912   0.958904  0.985915  0.972222\n",
      "4     K-Nearest Neighbors  0.956140   0.934211  1.000000  0.965986\n",
      "0     Logistic Regression  0.956140   0.945946  0.985915  0.965517\n",
      "5               Tuned SVM  0.956140   0.945946  0.985915  0.965517\n",
      "6     Tuned Random Forest  0.956140   0.958333  0.971831  0.965035\n",
      "2  Support Vector Machine  0.947368   0.922078  1.000000  0.959459\n",
      "3           Decision Tree  0.947368   0.957746  0.957746  0.957746\n"
     ]
    }
   ],
   "source": [
    "# Evaluate tuned models on the test set\n",
    "tuned_models = {\n",
    "    \"Tuned SVM\": grid_search_svm.best_estimator_,\n",
    "    \"Tuned Random Forest\": random_search_rf.best_estimator_\n",
    "}\n",
    "\n",
    "# Add results to the original scores\n",
    "for name, model in tuned_models.items():\n",
    "    predictions = model.predict(X_test)\n",
    "    model_scores.append({\n",
    "        \"Model\": name,\n",
    "        \"Accuracy\": accuracy_score(y_test, predictions),\n",
    "        \"Precision\": precision_score(y_test, predictions),\n",
    "        \"Recall\": recall_score(y_test, predictions),\n",
    "        \"F1 Score\": f1_score(y_test, predictions)\n",
    "    })\n",
    "\n",
    "# Display updated results\n",
    "final_results = pd.DataFrame(model_scores)\n",
    "print(\"Final Evaluation Results (including tuned models):\")\n",
    "print(final_results.sort_values(by=\"F1 Score\", ascending=False))\n"
   ]
  },
  {
   "cell_type": "code",
   "execution_count": 17,
   "id": "0e39a217-6de9-4e11-9aaf-217ed30b1a9f",
   "metadata": {},
   "outputs": [
    {
     "name": "stdout",
     "output_type": "stream",
     "text": [
      "Classification Report:\n",
      "               precision    recall  f1-score   support\n",
      "\n",
      "           0       0.97      0.91      0.94        43\n",
      "           1       0.95      0.99      0.97        71\n",
      "\n",
      "    accuracy                           0.96       114\n",
      "   macro avg       0.96      0.95      0.95       114\n",
      "weighted avg       0.96      0.96      0.96       114\n",
      "\n"
     ]
    },
    {
     "data": {
      "text/plain": [
       "<sklearn.metrics._plot.confusion_matrix.ConfusionMatrixDisplay at 0x12a6c516f60>"
      ]
     },
     "execution_count": 17,
     "metadata": {},
     "output_type": "execute_result"
    },
    {
     "data": {
      "image/png": "[encoded data removed]",
      "text/plain": [
       "<Figure size 640x480 with 2 Axes>"
      ]
     },
     "metadata": {},
     "output_type": "display_data"
    }
   ],
   "source": [
    "# Select the best model (you can choose based on F1 score)\n",
    "best_model = grid_search_svm.best_estimator_\n",
    "y_pred = best_model.predict(X_test)\n",
    "\n",
    "# Print classification report\n",
    "print(\"Classification Report:\\n\", classification_report(y_test, y_pred))\n",
    "\n",
    "# Plot confusion matrix\n",
    "cm = confusion_matrix(y_test, y_pred)\n",
    "ConfusionMatrixDisplay(confusion_matrix=cm).plot()\n"
   ]
  },
  {
   "cell_type": "code",
   "execution_count": null,
   "id": "e4afb0fc-30d4-4f01-a9ba-074e9077716e",
   "metadata": {},
   "outputs": [],
   "source": []
  }
 ],
 "metadata": {
  "kernelspec": {
   "display_name": "Python 3 (ipykernel)",
   "language": "python",
   "name": "python3"
  },
  "language_info": {
   "codemirror_mode": {
    "name": "ipython",
    "version": 3
   },
   "file_extension": ".py",
   "mimetype": "text/x-python",
   "name": "python",
   "nbconvert_exporter": "python",
   "pygments_lexer": "ipython3",
   "version": "3.12.3"
  }
 },
 "nbformat": 4,
 "nbformat_minor": 5
}
